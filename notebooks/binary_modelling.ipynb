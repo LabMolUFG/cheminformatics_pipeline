{
 "cells": [
  {
   "cell_type": "code",
   "execution_count": 1,
   "metadata": {},
   "outputs": [
    {
     "name": "stdout",
     "output_type": "stream",
     "text": [
      "d:\\cheminformatics_pipeline\n"
     ]
    }
   ],
   "source": [
    "# import functions\n",
    "import sys,os\n",
    "import glob\n",
    "try: \n",
    "    if(cwd is not None):\n",
    "        from functions.utils_binary import *\n",
    "except:\n",
    "    %cd ..\n",
    "    cwd = os.getcwd()\n",
    "    sys.path.insert(0,cwd)\n",
    "    from functions.utils_binary import *"
   ]
  },
  {
   "cell_type": "code",
   "execution_count": null,
   "metadata": {},
   "outputs": [],
   "source": [
    "# prepare data for training\n",
    "defineXY(testSize=0.2, trainSize=0.8, randomState=4)"
   ]
  },
  {
   "cell_type": "markdown",
   "metadata": {},
   "source": [
    "## XGBoost, Ada and LightGBM pipeline"
   ]
  },
  {
   "cell_type": "code",
   "execution_count": null,
   "metadata": {},
   "outputs": [],
   "source": [
    "# setting search space\n",
    "\n",
    "xgb_search = {\n",
    "'learning_rate': Real(0.01, 1.0, 'uniform'),\n",
    "'max_depth': Integer(2, 12),\n",
    "'subsample': Real(0.1, 1.0, 'uniform'),\n",
    "'colsample_bytree': Real(0.1, 1.0, 'uniform'),\n",
    "'reg_alpha': Real(1e-9, 100., 'uniform'),\n",
    "'n_estimators': Integer(50, 5000)\n",
    "}\n",
    "\n",
    "ada_search = {\n",
    "    'learning_rate': Real(0.005, 0.9, prior=\"log-uniform\"),\n",
    "    'n_estimators': Integer(1, 1000),\n",
    "}\n",
    "\n",
    "lgbm_search = {\n",
    "    'reg_sqrt': Categorical([True, False]),\n",
    "    'learning_rate': Real(0.01, 1.0, 'log-uniform'),     # Boosting learning rate\n",
    "    'n_estimators': Integer(30, 5000),                   # Number of boosted trees to fit\n",
    "    'num_leaves': Integer(2, 512),                       # Maximum tree leaves for base learners\n",
    "    'max_depth': Integer(-1, 256),                       # Maximum tree depth for base learners, <=0 means no limit\n",
    "    'subsample': Real(0.01, 1.0, 'uniform'),             # Subsample ratio of the training instance\n",
    "    'subsample_freq': Integer(1, 10),                    # Frequency of subsample, <=0 means no enable\n",
    "    'colsample_bytree': Real(0.01, 1.0, 'uniform'),      # Subsample ratio of columns when constructing each tree\n",
    "    'reg_lambda': Real(1e-9, 100.0, 'log-uniform'),      # L2 regularization\n",
    "    'reg_alpha': Real(1e-9, 100.0, 'log-uniform'),       # L1 regularization\n",
    "   }"
   ]
  },
  {
   "cell_type": "code",
   "execution_count": null,
   "metadata": {},
   "outputs": [],
   "source": [
    "# scorer\n",
    "f1_scorer = make_scorer(f1_score, pos_label=1)\n",
    "\n",
    "# Setting the validation strategy\n",
    "inner_skf = StratifiedKFold(n_splits=5, shuffle=True, random_state=2)\n",
    "outer_skf = StratifiedKFold(n_splits=5, shuffle=True, random_state=2)"
   ]
  },
  {
   "cell_type": "code",
   "execution_count": null,
   "metadata": {},
   "outputs": [],
   "source": [
    "# initiate models\n",
    "init_models = [xgb.XGBClassifier(), LGBMClassifier(), AdaBoostClassifier()]\n",
    "\n",
    "# search spaces\n",
    "search_spaces = [xgb_search, lgbm_search, ada_search]"
   ]
  },
  {
   "cell_type": "code",
   "execution_count": null,
   "metadata": {},
   "outputs": [],
   "source": [
    "# define fp generated\n",
    "fp_generated = ['ecfp_fp_2_1024', 'fcfp_fp_2_1024', 'maccs_fp']\n",
    "\n",
    "for fp in fp_generated:\n",
    "\n",
    "    # run through x train\n",
    "    for file in os.listdir('./data/curated_data/x/binary/x_train/'):\n",
    "\n",
    "        # run through y train\n",
    "        for file_ in os.listdir('./data/curated_data/y/binary/y_train/'):\n",
    "\n",
    "            # check if file is json file\n",
    "            if file.endswith('json'):\n",
    "\n",
    "                #check if files share the same fp, if so, continue\n",
    "                if file.find(fp) != -1 and  file_.find(fp) != -1:\n",
    "                    \n",
    "                    # load x_train\n",
    "                    with open(f'./data/curated_data/x/binary/x_train/{file}', 'r') as x_train:\n",
    "                        x_train = json.load(x_train)\n",
    "                        x_train= np.asarray(x_train)\n",
    "\n",
    "\n",
    "                    # load y_train\n",
    "                    with open(f'./data/curated_data/y/binary/y_train/{file_}', 'r') as y_train:\n",
    "                        y_train = json.load(y_train)\n",
    "                        y_train= np.asarray(y_train)\n",
    "\n",
    "                    # training\n",
    "                    bayessearch(\n",
    "                        models = init_models, \n",
    "                        search_spaces = search_spaces, \n",
    "                        scorer = f1_scorer,\n",
    "                        inner_cv = inner_skf,\n",
    "                        outer_cv = outer_skf,\n",
    "                        x = x_train,\n",
    "                        y = y_train,\n",
    "                        fp = fp\n",
    "                    )"
   ]
  }
 ],
 "metadata": {
  "kernelspec": {
   "display_name": "Python 3.10.6 ('chem_pipeline')",
   "language": "python",
   "name": "python3"
  },
  "language_info": {
   "codemirror_mode": {
    "name": "ipython",
    "version": 3
   },
   "file_extension": ".py",
   "mimetype": "text/x-python",
   "name": "python",
   "nbconvert_exporter": "python",
   "pygments_lexer": "ipython3",
   "version": "3.10.6"
  },
  "orig_nbformat": 4,
  "vscode": {
   "interpreter": {
    "hash": "a59e22669eba1dc6e4d930302cbb600e9d71d81892f6be3c25d1b723809ef057"
   }
  }
 },
 "nbformat": 4,
 "nbformat_minor": 2
}
