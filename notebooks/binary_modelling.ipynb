{
 "cells": [
  {
   "cell_type": "code",
   "execution_count": 1,
   "metadata": {},
   "outputs": [
    {
     "name": "stdout",
     "output_type": "stream",
     "text": [
      "d:\\cheminformatics_pipeline\n"
     ]
    }
   ],
   "source": [
    "# import functions\n",
    "import sys,os\n",
    "import glob\n",
    "try: \n",
    "    if(cwd is not None):\n",
    "        from functions.utils_binary import *\n",
    "except:\n",
    "    %cd ..\n",
    "    cwd = os.getcwd()\n",
    "    sys.path.insert(0,cwd)\n",
    "    from functions.utils_binary import *"
   ]
  },
  {
   "cell_type": "code",
   "execution_count": null,
   "metadata": {},
   "outputs": [],
   "source": [
    "# prepare data for training\n",
    "defineXY(testSize=0.2, trainSize=0.8, randomState=4)"
   ]
  },
  {
   "cell_type": "markdown",
   "metadata": {},
   "source": [
    "## XGBoost, Ada and LightGBM pipeline"
   ]
  },
  {
   "cell_type": "code",
   "execution_count": null,
   "metadata": {},
   "outputs": [],
   "source": [
    "# setting search space\n",
    "\n",
    "xgb_search = {\n",
    "'learning_rate': Real(0.01, 1.0, 'uniform'),\n",
    "'max_depth': Integer(2, 12),\n",
    "'subsample': Real(0.1, 1.0, 'uniform'),\n",
    "'colsample_bytree': Real(0.1, 1.0, 'uniform'),\n",
    "'reg_alpha': Real(1e-9, 100., 'uniform'),\n",
    "'n_estimators': Integer(50, 5000)\n",
    "}\n",
    "\n",
    "ada_search = {\n",
    "    'learning_rate': Real(0.005, 0.9, prior=\"log-uniform\"),\n",
    "    'n_estimators': Integer(1, 1000),\n",
    "}\n",
    "\n",
    "lgbm_search = {\n",
    "    'reg_sqrt': Categorical([True, False]),\n",
    "    'learning_rate': Real(0.01, 1.0, 'log-uniform'),     # Boosting learning rate\n",
    "    'n_estimators': Integer(30, 5000),                   # Number of boosted trees to fit\n",
    "    'num_leaves': Integer(2, 512),                       # Maximum tree leaves for base learners\n",
    "    'max_depth': Integer(-1, 256),                       # Maximum tree depth for base learners, <=0 means no limit\n",
    "    'subsample': Real(0.01, 1.0, 'uniform'),             # Subsample ratio of the training instance\n",
    "    'subsample_freq': Integer(1, 10),                    # Frequency of subsample, <=0 means no enable\n",
    "    'colsample_bytree': Real(0.01, 1.0, 'uniform'),      # Subsample ratio of columns when constructing each tree\n",
    "    'reg_lambda': Real(1e-9, 100.0, 'log-uniform'),      # L2 regularization\n",
    "    'reg_alpha': Real(1e-9, 100.0, 'log-uniform'),       # L1 regularization\n",
    "   }"
   ]
  },
  {
   "cell_type": "code",
   "execution_count": null,
   "metadata": {},
   "outputs": [],
   "source": [
    "# scorer\n",
    "f1_scorer = make_scorer(f1_score, pos_label=1)\n",
    "\n",
    "# Setting the validation strategy\n",
    "inner_skf = StratifiedKFold(n_splits=5, shuffle=True, random_state=2)\n",
    "outer_skf = StratifiedKFold(n_splits=5, shuffle=True, random_state=2)"
   ]
  },
  {
   "cell_type": "code",
   "execution_count": null,
   "metadata": {},
   "outputs": [],
   "source": [
    "# initiate models\n",
    "init_models = [xgb.XGBClassifier(), LGBMClassifier(), AdaBoostClassifier()]\n",
    "\n",
    "# search spaces\n",
    "search_spaces = [xgb_search, lgbm_search, ada_search]"
   ]
  },
  {
   "cell_type": "code",
   "execution_count": null,
   "metadata": {},
   "outputs": [],
   "source": [
    "# define fp generated\n",
    "fp_generated = ['ecfp_fp_2_1024', 'fcfp_fp_2_1024', 'maccs_fp']\n",
    "\n",
    "for fp in fp_generated:\n",
    "\n",
    "    # run through x train\n",
    "    for file in os.listdir('./data/curated_data/x/binary/x_train/'):\n",
    "\n",
    "        # run through y train\n",
    "        for file_ in os.listdir('./data/curated_data/y/binary/y_train/'):\n",
    "\n",
    "            # check if file is json file\n",
    "            if file.endswith('json'):\n",
    "\n",
    "                #check if files share the same fp, if so, continue\n",
    "                if file.find(fp) != -1 and  file_.find(fp) != -1:\n",
    "                    \n",
    "                    # load x_train\n",
    "                    with open(f'./data/curated_data/x/binary/x_train/{file}', 'r') as x_train:\n",
    "                        x_train = json.load(x_train)\n",
    "                        x_train= np.asarray(x_train)\n",
    "\n",
    "\n",
    "                    # load y_train\n",
    "                    with open(f'./data/curated_data/y/binary/y_train/{file_}', 'r') as y_train:\n",
    "                        y_train = json.load(y_train)\n",
    "                        y_train= np.asarray(y_train)\n",
    "\n",
    "                    # training\n",
    "                    bayessearch(\n",
    "                        models = init_models, \n",
    "                        search_spaces = search_spaces, \n",
    "                        scorer = f1_scorer,\n",
    "                        inner_cv = inner_skf,\n",
    "                        outer_cv = outer_skf,\n",
    "                        x = x_train,\n",
    "                        y = y_train,\n",
    "                        fp = fp\n",
    "                    )"
   ]
  },
  {
   "cell_type": "code",
   "execution_count": null,
   "metadata": {},
   "outputs": [],
   "source": [
    "# generate external set confusion matrix\n",
    "validatemodels()"
   ]
  },
  {
   "cell_type": "code",
   "execution_count": null,
   "metadata": {},
   "outputs": [],
   "source": [
    "from sklearn import metrics\n",
    "with open(f'./data/curated_data/x/binary/x_train/x_train_ecfp_fp_2_1024.json', 'r') as x_train:\n",
    "    x_train = json.load(x_train)\n",
    "    x_train= np.asarray(x_train)\n",
    "\n",
    "\n",
    "# load y_train\n",
    "with open(f'./data/curated_data/y/binary/y_train/y_train_ecfp_fp_2_1024.json', 'r') as y_train:\n",
    "    y_train = json.load(y_train)\n",
    "    y_train= np.asarray(y_train)\n",
    "\n",
    "\n",
    "\n",
    "model = load('./data/models/binary/ada_classifier_ecfp_fp_2_1024.joblib')\n",
    "scores = cross_validate(model, x_train, y_train, cv=outer_skf, scoring='roc_auc', return_train_score=True)"
   ]
  },
  {
   "cell_type": "code",
   "execution_count": null,
   "metadata": {},
   "outputs": [],
   "source": [
    "def validatemodels ():\n",
    "\n",
    "    # load model\n",
    "    for clf in os.listdir('./data/models/binary/'):\n",
    "        if clf.endswith('joblib'):\n",
    "\n",
    "            # extract fingerprint name used\n",
    "            s = clf\n",
    "            result = re.search('classifier_(.*).joblib', s)\n",
    "            fp_used = result.group(1)\n",
    "\n",
    "            #extract 5cv metrics name\n",
    "            result = re.search(f'(.*){fp_used}.joblib', s)\n",
    "            modelname = result.group(1)\n",
    "\n",
    "            ############# INTERNAL VALIDATION ############\n",
    "            \n",
    "\n",
    "\n",
    "\n",
    "\n",
    "\n",
    "\n",
    "\n",
    "\n",
    "\n",
    "\n",
    "\n",
    "\n",
    "\n",
    "\n",
    "\n",
    "\n",
    "\n",
    "\n",
    "\n",
    "            ########## EXTERNAL VALIDATION #############\n",
    "            # load model\n",
    "            model = load(f'./data/models/binary/{clf}')\n",
    "\n",
    "\n",
    "            with open(f'./data/curated_data/y/binary/y_ext/y_ext_{fp_used}.json', 'r') as y_ext:\n",
    "                y_ext = json.load(y_ext)\n",
    "                y_ext = np.asarray(y_ext)\n",
    "\n",
    "            # load x_ext\n",
    "            with open(f'./data/curated_data/x/binary/x_ext/x_ext_{fp_used}.json', 'r') as x_ext:\n",
    "                x_ext = json.load(x_ext)\n",
    "                x_ext = np.asarray(x_ext)\n",
    "\n",
    "            # calculate external metrics\n",
    "            metrics, cm = metrics_binary(model, x_ext, y_ext)\n",
    "\n",
    "            disp = ConfusionMatrixDisplay(confusion_matrix=cm, display_labels=model.classes_)\n",
    "            disp.plot()\n",
    "\n",
    "            # save fig\n",
    "            plt.savefig(f'./data/figs/confusion_matrix_{modelname}{fp_used}.png', dpi=300)\n",
    "\n",
    "\n",
    "            A = [cm[1, 1], cm[0, 0]]\n",
    "            B = [cm[1, 0], cm[0, 1]]\n",
    "\n",
    "            fig = plt.figure(facecolor=\"white\")\n",
    "\n",
    "            ax = fig.subplots()\n",
    "            bar_width = 0.9\n",
    "            bar_l = np.arange(1, 3)\n",
    "            tick_pos = [i + (bar_width / 30) for i in bar_l]\n",
    "\n",
    "            ax2 = ax.bar(bar_l, A, width=bar_width, label=\"A\", color=\"darkseagreen\")\n",
    "            ax1 = ax.bar(bar_l, B, bottom=A, width=bar_width, label=\"B\", color=\"lightcoral\")\n",
    "            ax.set_ylabel(\"Count\", fontsize=10)\n",
    "            totals = [sum([cm[1, 1], cm[1, 0]]), sum([cm[0, 0], cm[0, 1]])]\n",
    "            plt.legend([\"Predicted correctly\", \"Predicted wrongly\"], bbox_to_anchor=(0.45, -0.09), loc='upper center', ncol=1)\n",
    "            plt.xticks(tick_pos, [f\"Total Negatives: {totals[0]}\", f\"Total Positives: {totals[1]}\"], fontsize=10)\n",
    "            plt.title(f'Confusion Matrix {modelname}{fp_used}')\n",
    "            plt.yticks(fontsize=10)\n",
    "\n",
    "            for r1, r2 in zip(ax2, ax1):\n",
    "                h1 = r1.get_height()\n",
    "                h2 = r2.get_height()\n",
    "                plt.text(r1.get_x() + r1.get_width() / 2., h1 / 2., \"%d\" % h1, ha=\"center\", va=\"bottom\", color=\"white\", fontsize=10, fontweight=\"bold\")\n",
    "                plt.text(r2.get_x() + r2.get_width() / 2., h1 + h2 / 2., \"%d\" % h2, ha=\"center\", va=\"bottom\", color=\"white\", fontsize=10, fontweight=\"bold\")\n",
    "\n",
    "            plt.savefig(f'./data/figs/barplotconfusion_matrix_{modelname}{fp_used}.png', dpi=300, bbox_inches = 'tight')"
   ]
  },
  {
   "cell_type": "code",
   "execution_count": 6,
   "metadata": {},
   "outputs": [
    {
     "name": "stdout",
     "output_type": "stream",
     "text": [
      "ada_classifier_auc_fcfp_fp_2_1024.csv lgbm_classifier_auc_fcfp_fp_2_1024.csv xgb_classifier_auc_fcfp_fp_2_1024.csv\n"
     ]
    }
   ],
   "source": [
    "# generate graph with 5-fold-cross validation metrics\n",
    "fp_used = 'fcfp_fp_2_1024'\n",
    "# import data\n",
    "for file_ada in os.listdir('./data/models/binary/metrics/AUC/ada/'):\n",
    "    for file_lgbm in os.listdir('./data/models/binary/metrics/AUC/lgbm/'):\n",
    "        for file_xgb in os.listdir('./data/models/binary/metrics/AUC/xgb/'):\n",
    "            if file.endswith('csv'):\n",
    "                if file_ada.find('auc') != -1 and file_lgbm.find('auc') != -1 and file_xgb.find('auc') != -1:\n",
    "                    if file_ada.find(fp_used) != -1 and file_lgbm.find(fp_used) != -1 and file_xgb.find(fp_used) != -1:\n",
    "                        print(file_ada, file_lgbm, file_xgb)"
   ]
  },
  {
   "cell_type": "code",
   "execution_count": 45,
   "metadata": {},
   "outputs": [
    {
     "data": {
      "image/png": "[encoded data removed]",
      "text/plain": [
       "<Figure size 640x480 with 1 Axes>"
      ]
     },
     "metadata": {},
     "output_type": "display_data"
    }
   ],
   "source": [
    "# libraries\n",
    "import matplotlib.pyplot as plt\n",
    "import numpy as np\n",
    "import pandas as pd\n",
    "import statistics as st\n",
    "\n",
    "\n",
    "ada_df = pd.read_csv('./data/models/binary/metrics/AUC/ada/ada_classifier_auc_maccs_fp.csv')\n",
    "lgbm_df = pd.read_csv('./data/models/binary/metrics/AUC/lgbm/lgbm_classifier_auc_maccs_fp.csv')\n",
    "xgb_df = pd.read_csv('./data/models/binary/metrics/AUC/xgb/xgb_classifier_auc_maccs_fp.csv')\n",
    "\n",
    "\n",
    "dictHolder = pd.DataFrame({'x_values':[], 'LGBM': [], 'ADABoost': [], 'XGBoost':[]})\n",
    "\n",
    "dictHolder['LGBM'] = [i for i in lgbm_df['test_score']]\n",
    "dictHolder['ADABoost'] = [i for i in ada_df['test_score']]\n",
    "dictHolder['XGBoost'] = [i for i in xgb_df['test_score']]\n",
    "dictHolder['x_values'] = [f'fold_{i}' for i in range(5)]\n",
    "\n",
    "\n",
    "# multiple line plots\n",
    "plt.plot( 'x_values', 'LGBM', data=dictHolder, marker='^', markerfacecolor='white', markersize=8, color='blue', linewidth=2, linestyle='dashed', label = f\"LGBM mean {round(st.mean(dictHolder['LGBM']), 2)}\")\n",
    "plt.plot( 'x_values', 'XGBoost', data=dictHolder, marker='v', markerfacecolor='white', markersize=8, color='red', linewidth=2, linestyle='dashed', label = f\"XGBoost mean {round(st.mean(dictHolder['XGBoost']), 2)}\")\n",
    "plt.plot( 'x_values', 'ADABoost', data=dictHolder, marker='x', markerfacecolor='white', markersize=8, color='black', linewidth=2, linestyle='dashed', label = f\"ADABoost mean {round(st.mean(dictHolder['ADABoost']), 2)}\")\n",
    "\n",
    "plt.title('5-fold cross validation ECFP4 1024')\n",
    "plt.ylabel('AUC')\n",
    "\n",
    "# show legend\n",
    "plt.legend()\n",
    "\n",
    "# show graph\n",
    "plt.show()\n",
    "\n"
   ]
  },
  {
   "cell_type": "code",
   "execution_count": null,
   "metadata": {},
   "outputs": [],
   "source": []
  },
  {
   "cell_type": "code",
   "execution_count": null,
   "metadata": {},
   "outputs": [],
   "source": [
    "from PIL import Image\n",
    "\n",
    "\n",
    "def combine_images(columns, space, images):\n",
    "    rows = len(images) // columns\n",
    "    if len(images) % columns:\n",
    "        rows += 1\n",
    "    width_max = max([Image.open(image).width for image in images])\n",
    "    height_max = max([Image.open(image).height for image in images])\n",
    "    background_width = width_max*columns + (space*columns)-space\n",
    "    background_height = height_max*rows + (space*rows)-space\n",
    "    background = Image.new('RGBA', (background_width, background_height), (255, 255, 255, 255))\n",
    "    x = 0\n",
    "    y = 0\n",
    "    for i, image in enumerate(images):\n",
    "        img = Image.open(image)\n",
    "        x_offset = int((width_max-img.width)/2)\n",
    "        y_offset = int((height_max-img.height)/2)\n",
    "        background.paste(img, (x+x_offset, y+y_offset))\n",
    "        x += width_max + space\n",
    "        if (i+1) % columns == 0:\n",
    "            y += height_max + space\n",
    "            x = 0\n",
    "    return background.save('image.png')"
   ]
  },
  {
   "cell_type": "code",
   "execution_count": null,
   "metadata": {},
   "outputs": [],
   "source": [
    "combine_images(columns=2, space=30, images=['./data/figs/barplotconfusion_matrix_ada_classifier_ecfp_fp_2_1024.png',\n",
    "'./data/figs/barplotconfusion_matrix_xgb_classifier_ecfp_fp_2_1024.png'])"
   ]
  }
 ],
 "metadata": {
  "kernelspec": {
   "display_name": "Python 3.10.6 ('chem_pipeline')",
   "language": "python",
   "name": "python3"
  },
  "language_info": {
   "codemirror_mode": {
    "name": "ipython",
    "version": 3
   },
   "file_extension": ".py",
   "mimetype": "text/x-python",
   "name": "python",
   "nbconvert_exporter": "python",
   "pygments_lexer": "ipython3",
   "version": "3.10.6"
  },
  "orig_nbformat": 4,
  "vscode": {
   "interpreter": {
    "hash": "a59e22669eba1dc6e4d930302cbb600e9d71d81892f6be3c25d1b723809ef057"
   }
  }
 },
 "nbformat": 4,
 "nbformat_minor": 2
}
